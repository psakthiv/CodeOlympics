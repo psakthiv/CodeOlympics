{
  "nbformat": 4,
  "nbformat_minor": 0,
  "metadata": {
    "colab": {
      "provenance": []
    },
    "kernelspec": {
      "name": "python3",
      "display_name": "Python 3"
    },
    "language_info": {
      "name": "python"
    }
  },
  "cells": [
    {
      "cell_type": "code",
      "execution_count": 40,
      "metadata": {
        "id": "UhJcCISmNQI0"
      },
      "outputs": [],
      "source": [
        "import requests\n",
        "import pandas as pd\n",
        "import re\n",
        "\n",
        "response = requests.get('https://www.gutenberg.org/cache/epub/100/pg100.txt')\n",
        "\n",
        "text = response.text\n"
      ]
    },
    {
      "cell_type": "code",
      "source": [
        "def generate_ngrams(text, n):\n",
        "  \n",
        "  text = text.strip().lower().replace('\\t', '').replace('\\n', '').replace('.', '').replace(',', '').replace('!', '').replace('?', '').replace('(', '').replace(')', '').replace('\\'', '').replace('\"', '').replace(':', '')\n",
        "  #print(text)\n",
        "  words = text.split()\n",
        "  ngrams = []\n",
        "  for i in range(len(words) - n + 1):\n",
        "    ngrams.append(' '.join(words[i:i+n]))\n",
        "  \n",
        "  return ngrams"
      ],
      "metadata": {
        "id": "V6QOmElzOLYm"
      },
      "execution_count": 51,
      "outputs": []
    },
    {
      "cell_type": "code",
      "source": [
        "text = \"The quick brown fox jumped over the lazy dog\"\n",
        "text = response.text\n",
        "\n",
        "para = list()\n",
        "for i in text.split(\"THE SONNETS\")[2].split(\"\\r\\n\"):\n",
        "  if(i.strip() != \"FINIS\"):\n",
        "    para.append(i)\n",
        "  else:\n",
        "    break\n",
        "\n",
        "shakes = pd.DataFrame(para)\n",
        "\n",
        "shakes = shakes.rename(columns={0:\"words\"})\n",
        "\n",
        "shakes['words'] = shakes.words.apply(lambda x: x.strip())\n",
        "\n",
        "shakes = shakes[shakes['words'] != \"\"]\n",
        "\n",
        "shakes.head(10)\n",
        "\n",
        "print(shakes.head(10))\n",
        "\n",
        "shakes['words'] = shakes.words.apply(lambda x: re.sub(\"[0-9]\\r\\n\",\"\", x))\n",
        "shakes['words'] = shakes.words.apply(lambda x: re.sub(\"[0-9]\",\"\", x))\n",
        "#shakes['words'] = shakes.words.apply(lambda x: re.sub(\"[,-\\[\\]'$({})]\",\"\",x))\n",
        "shakes['words'] = shakes.words.apply(lambda x: x.replace(\"\\r\", \"\"))\n",
        "shakes['words'] = shakes.words.apply(lambda x: x.replace(\"\\n\", \"\"))\n",
        "\n",
        "lines = [line for line in list(shakes.words) if line != \"\"]\n",
        "\n",
        "\n",
        "print(shakes.head(10))"
      ],
      "metadata": {
        "colab": {
          "base_uri": "https://localhost:8080/"
        },
        "id": "_tlLiqJvOycY",
        "outputId": "e8f8c04d-1adb-4ef4-d560-a4c72f040c38"
      },
      "execution_count": 42,
      "outputs": [
        {
          "output_type": "stream",
          "name": "stdout",
          "text": [
            "                                                words\n",
            "2                                                   1\n",
            "4          From fairest creatures we desire increase,\n",
            "5         That thereby beauty’s rose might never die,\n",
            "6            But as the riper should by time decease,\n",
            "7              His tender heir might bear his memory:\n",
            "8       But thou contracted to thine own bright eyes,\n",
            "9   Feed’st thy light’s flame with self-substantia...\n",
            "10              Making a famine where abundance lies,\n",
            "11      Thyself thy foe, to thy sweet self too cruel:\n",
            "12      Thou that art now the world’s fresh ornament,\n",
            "                                                words\n",
            "2                                                    \n",
            "4          From fairest creatures we desire increase,\n",
            "5         That thereby beauty’s rose might never die,\n",
            "6            But as the riper should by time decease,\n",
            "7              His tender heir might bear his memory:\n",
            "8       But thou contracted to thine own bright eyes,\n",
            "9   Feed’st thy light’s flame with self-substantia...\n",
            "10              Making a famine where abundance lies,\n",
            "11      Thyself thy foe, to thy sweet self too cruel:\n",
            "12      Thou that art now the world’s fresh ornament,\n"
          ]
        }
      ]
    },
    {
      "cell_type": "code",
      "source": [
        "print(len(shakes))"
      ],
      "metadata": {
        "colab": {
          "base_uri": "https://localhost:8080/"
        },
        "id": "xfU4uaLdQgEy",
        "outputId": "67dc880a-635f-4810-baf5-97569d5fef9d"
      },
      "execution_count": 43,
      "outputs": [
        {
          "output_type": "stream",
          "name": "stdout",
          "text": [
            "143727\n"
          ]
        }
      ]
    },
    {
      "cell_type": "code",
      "source": [
        "ngrams = list()\n",
        "for index, row in shakes.iterrows():\n",
        "  ngrams.append(generate_ngrams(row[\"words\"], 3))\n",
        "  #print(row[\"words\"])\n",
        "\n",
        "print(\"*****ngrams*****\")\n",
        "ngrams_pd = pd.DataFrame(ngrams)\n",
        "print(ngrams_pd.head(10))"
      ],
      "metadata": {
        "colab": {
          "base_uri": "https://localhost:8080/"
        },
        "id": "YldfVv5SUsX_",
        "outputId": "17a1c6f2-26d4-4889-8261-837b58080314"
      },
      "execution_count": 52,
      "outputs": [
        {
          "output_type": "stream",
          "name": "stdout",
          "text": [
            "*****ngrams*****\n",
            "                       0                      1                       2   \\\n",
            "0                    None                   None                    None   \n",
            "1  from fairest creatures   fairest creatures we     creatures we desire   \n",
            "2   that thereby beauty’s  thereby beauty’s rose     beauty’s rose might   \n",
            "3              but as the           as the riper        the riper should   \n",
            "4         his tender heir      tender heir might         heir might bear   \n",
            "5     but thou contracted     thou contracted to     contracted to thine   \n",
            "6     feed’st thy light’s      thy light’s flame      light’s flame with   \n",
            "7         making a famine         a famine where  famine where abundance   \n",
            "8         thyself thy foe             thy foe to              foe to thy   \n",
            "9           thou that art           that art now             art now the   \n",
            "\n",
            "                            3                           4   \\\n",
            "0                         None                        None   \n",
            "1           we desire increase                        None   \n",
            "2             rose might never             might never die   \n",
            "3              riper should by              should by time   \n",
            "4               might bear his             bear his memory   \n",
            "5                 to thine own            thine own bright   \n",
            "6  flame with self-substantial  with self-substantial fuel   \n",
            "7         where abundance lies                        None   \n",
            "8                 to thy sweet              thy sweet self   \n",
            "9              now the world’s           the world’s fresh   \n",
            "\n",
            "                       5               6     7     8     9     10    11    12  \\\n",
            "0                    None            None  None  None  None  None  None  None   \n",
            "1                    None            None  None  None  None  None  None  None   \n",
            "2                    None            None  None  None  None  None  None  None   \n",
            "3         by time decease            None  None  None  None  None  None  None   \n",
            "4                    None            None  None  None  None  None  None  None   \n",
            "5         own bright eyes            None  None  None  None  None  None  None   \n",
            "6                    None            None  None  None  None  None  None  None   \n",
            "7                    None            None  None  None  None  None  None  None   \n",
            "8          sweet self too  self too cruel  None  None  None  None  None  None   \n",
            "9  world’s fresh ornament            None  None  None  None  None  None  None   \n",
            "\n",
            "     13    14    15    16  \n",
            "0  None  None  None  None  \n",
            "1  None  None  None  None  \n",
            "2  None  None  None  None  \n",
            "3  None  None  None  None  \n",
            "4  None  None  None  None  \n",
            "5  None  None  None  None  \n",
            "6  None  None  None  None  \n",
            "7  None  None  None  None  \n",
            "8  None  None  None  None  \n",
            "9  None  None  None  None  \n"
          ]
        }
      ]
    }
  ]
}